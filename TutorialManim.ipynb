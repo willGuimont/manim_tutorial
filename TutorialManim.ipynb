{
 "cells": [
  {
   "cell_type": "code",
   "execution_count": 49,
   "id": "26a9d871-faa0-4d57-a3c6-171a153e8633",
   "metadata": {},
   "outputs": [],
   "source": [
    "from manim import *\n",
    "import numpy as np"
   ]
  },
  {
   "cell_type": "code",
   "execution_count": 67,
   "id": "bc0e6f75-4b96-4b0a-a9a8-bbbeb883bac1",
   "metadata": {},
   "outputs": [
    {
     "name": "stderr",
     "output_type": "stream",
     "text": [
      "                                                                                                                      \r"
     ]
    },
    {
     "data": {
      "text/html": [
       "<video src=\"media/jupyter/SquareToCircle@2022-03-31@14-28-20.mp4\" controls autoplay loop style=\"max-width: 60%;\"  >\n",
       "      Your browser does not support the <code>video</code> element.\n",
       "    </video>"
      ],
      "text/plain": [
       "<IPython.core.display.Video object>"
      ]
     },
     "metadata": {},
     "output_type": "display_data"
    }
   ],
   "source": [
    "%%manim -qm -v WARNING --disable_caching SquareToCircle\n",
    "# %%manim -qm -v WARNING --disable_caching -s SquareToCircle\n",
    "# -s to not animate and only see last frame\n",
    "\n",
    "class SquareToCircle(Scene):\n",
    "    def construct(self):\n",
    "        square = Square()\n",
    "        circle = Circle()\n",
    "        circle.set_fill(PINK, opacity=0.5)\n",
    "        self.play(Create(square))\n",
    "        self.play(Transform(square, circle))\n",
    "        self.wait()"
   ]
  },
  {
   "cell_type": "code",
   "execution_count": 66,
   "id": "662357c2-d6c9-498c-b1f7-feac8c197bda",
   "metadata": {},
   "outputs": [
    {
     "name": "stderr",
     "output_type": "stream",
     "text": [
      "                                                                                                                      \r"
     ]
    },
    {
     "data": {
      "text/html": [
       "<video src=\"media/jupyter/CreateCircle@2022-03-31@14-11-23.mp4\" controls autoplay loop style=\"max-width: 60%;\"  >\n",
       "      Your browser does not support the <code>video</code> element.\n",
       "    </video>"
      ],
      "text/plain": [
       "<IPython.core.display.Video object>"
      ]
     },
     "metadata": {},
     "output_type": "display_data"
    }
   ],
   "source": [
    "%%manim -qm -v WARNING --disable_caching CreateCircle\n",
    "\n",
    "class CreateCircle(Scene):\n",
    "    def construct(self):\n",
    "        circle = Circle()\n",
    "        circle.set_stroke(PINK, width=10)\n",
    "        circle.set_fill(PURPLE, opacity=0.5)\n",
    "        circle.shift(UP)  # LEFT, UP, DOWN\n",
    "        \n",
    "        square = Square()\n",
    "        square.shift(DOWN)\n",
    "        \n",
    "        text = Tex(r'$\\omega$')\n",
    "        text.shift(DOWN)\n",
    "        \n",
    "        self.play(circle.animate.shift(UP))\n",
    "        self.play(Create(square), Create(text))\n",
    "        self.play(square.animate.rotate(np.pi / 2.))  # linear interpolation\n",
    "        self.play(Rotate(square, np.pi / 2.), text.animate.shift(DOWN * 1.5))\n",
    "        self.play(square.animate.set_stroke(BLUE))\n",
    "        \n",
    "        self.wait(2)"
   ]
  }
 ],
 "metadata": {
  "kernelspec": {
   "display_name": "Python 3 (ipykernel)",
   "language": "python",
   "name": "python3"
  },
  "language_info": {
   "codemirror_mode": {
    "name": "ipython",
    "version": 3
   },
   "file_extension": ".py",
   "mimetype": "text/x-python",
   "name": "python",
   "nbconvert_exporter": "python",
   "pygments_lexer": "ipython3",
   "version": "3.10.2"
  }
 },
 "nbformat": 4,
 "nbformat_minor": 5
}
