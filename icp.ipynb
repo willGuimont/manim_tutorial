{
 "cells": [
  {
   "cell_type": "code",
   "execution_count": 35,
   "id": "26a9d871-faa0-4d57-a3c6-171a153e8633",
   "metadata": {},
   "outputs": [],
   "source": [
    "from manim import *\n",
    "import numpy as np"
   ]
  },
  {
   "cell_type": "code",
   "execution_count": 46,
   "id": "bc0e6f75-4b96-4b0a-a9a8-bbbeb883bac1",
   "metadata": {},
   "outputs": [
    {
     "name": "stderr",
     "output_type": "stream",
     "text": [
      "                                                                                                                      \r"
     ]
    },
    {
     "data": {
      "text/html": [
       "<video src=\"media/jupyter/ICPScene@2022-03-31@15-34-35.mp4\" controls autoplay loop style=\"max-width: 60%;\"  >\n",
       "      Your browser does not support the <code>video</code> element.\n",
       "    </video>"
      ],
      "text/plain": [
       "<IPython.core.display.Video object>"
      ]
     },
     "metadata": {},
     "output_type": "display_data"
    }
   ],
   "source": [
    "%%manim -qm -v WARNING --disable_caching ICPScene\n",
    "# --format=gif \n",
    "\n",
    "points = []\n",
    "for x in np.linspace(0, 2, 4):\n",
    "    points.append((x, 0))\n",
    "    points.append((0, x))\n",
    "\n",
    "\n",
    "class ICPScene(Scene):\n",
    "    def construct(self):\n",
    "        t = ValueTracker(0)\n",
    "        t.add_updater(lambda x, dt: x.increment_value(dt))\n",
    "        self.add(t)\n",
    "        \n",
    "        pc_map = VGroup()\n",
    "        pc_reading = VGroup()\n",
    "        for x, y in points:\n",
    "            pc_map.add(Dot((x, y, 0), radius=0.1, color=YELLOW))\n",
    "            pc_reading.add(Dot((x, y, 0), radius=0.1, color=RED))\n",
    "        ax = Axes(\n",
    "            x_range=[0, 5], \n",
    "            y_range=[0, 1, 10], \n",
    "            axis_config={'include_tip': False, 'include_numbers': False},\n",
    "            x_axis_config={'include_ticks': False},\n",
    "            y_axis_config={'include_ticks': False},\n",
    "            x_length=6,\n",
    "            y_length=2.5,\n",
    "        )\n",
    "        labels = ax.get_axis_labels(x_label=\"x\", y_label=\"f(x)\")\n",
    "        f_x = lambda x: np.exp(-x**2)\n",
    "        plot = ax.plot(f_x, x_range=(0, 5), use_smoothing=True, color=RED)\n",
    "        \n",
    "        graph = VGroup(ax, labels, plot)\n",
    "        graph.shift(3 * LEFT)\n",
    "        \n",
    "        self.add(graph)\n",
    "        \n",
    "        # pc offset\n",
    "        pc_reading.shift([-1, -1, 0])\n",
    "        \n",
    "        pc_map.shift(3 * RIGHT)\n",
    "        pc_reading.shift(3 * RIGHT)\n",
    "            \n",
    "        lines = VGroup()\n",
    "        for p1, p2 in zip(pc_map, pc_reading):\n",
    "            lines.add(Line(p1.get_center(), p2.get_center()))\n",
    "            \n",
    "        def update_lines(lines, dt):\n",
    "            for i in range(len(lines)):\n",
    "                lines[i].become(Line(pc_map[i].get_center(), pc_reading[i].get_center()))\n",
    "            \n",
    "        def update_graph(plot, dt):\n",
    "            plot.become(ax.plot(f_x, x_range=(0, t.get_value() + 1e-3), use_smoothing=True, color=RED))\n",
    "            \n",
    "        lines.add_updater(update_lines)\n",
    "        plot.add_updater(update_graph)\n",
    "            \n",
    "        self.add(lines, pc_map, pc_reading)\n",
    "        self.play(pc_reading.animate.shift([1, 1, 0]))\n",
    "        self.wait(3)\n",
    "        \n",
    "        lines.clear_updaters()\n",
    "        plot.clear_updaters()\n",
    "        \n",
    "        self.play(*[FadeOut(mob) for mob in self.mobjects])\n",
    "        self.remove(*self.mobjects)\n",
    "        \n",
    "        title = MathTex(r'\\sum_{n=1}^\\infty \\frac{1}{n^2} = \\frac{\\pi^2}{6}')\n",
    "        self.add(title)\n",
    "        self.play(FadeIn(title))\n",
    "        self.wait(2)\n",
    "        self.play(FadeOut(title))\n",
    "        \n",
    "        image = ImageMobject('img/norlab_logo_acronym_dark.png').scale(2)\n",
    "        self.play(GrowFromCenter(image))\n",
    "        self.wait(2)\n",
    "        self.play(Wiggle(image, scale_value=1.5, rotation_angle=np.pi/5))\n",
    "        self.play(FadeOut(image))\n",
    "        \n",
    "        equation = MathTex(\n",
    "            r\"e^x = x^0 + x^1 + \\frac{1}{2} x^2 + \\frac{1}{6} x^3 + \\cdots + \\frac{1}{n!} x^n + \\cdots\",\n",
    "            substrings_to_isolate=\"x\"\n",
    "        )\n",
    "        equation.set_color_by_tex(\"x\", YELLOW)\n",
    "        self.add(equation)\n",
    "        self.wait(2)\n"
   ]
  }
 ],
 "metadata": {
  "kernelspec": {
   "display_name": "Python 3 (ipykernel)",
   "language": "python",
   "name": "python3"
  },
  "language_info": {
   "codemirror_mode": {
    "name": "ipython",
    "version": 3
   },
   "file_extension": ".py",
   "mimetype": "text/x-python",
   "name": "python",
   "nbconvert_exporter": "python",
   "pygments_lexer": "ipython3",
   "version": "3.10.2"
  }
 },
 "nbformat": 4,
 "nbformat_minor": 5
}
