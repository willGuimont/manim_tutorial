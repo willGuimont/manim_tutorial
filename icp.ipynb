{
 "cells": [
  {
   "cell_type": "code",
   "execution_count": 1,
   "id": "26a9d871-faa0-4d57-a3c6-171a153e8633",
   "metadata": {},
   "outputs": [
    {
     "data": {
      "text/html": [
       "<pre style=\"white-space:pre;overflow-x:auto;line-height:normal;font-family:Menlo,'DejaVu Sans Mono',consolas,'Courier New',monospace\">Manim Community <span style=\"color: #008000; text-decoration-color: #008000\">v0.15.1</span>\n",
       "\n",
       "</pre>\n"
      ],
      "text/plain": [
       "Manim Community \u001b[32mv0.\u001b[0m\u001b[32m15.1\u001b[0m\n",
       "\n"
      ]
     },
     "metadata": {},
     "output_type": "display_data"
    }
   ],
   "source": [
    "from manim import *\n",
    "import numpy as np"
   ]
  },
  {
   "cell_type": "code",
   "execution_count": 36,
   "id": "bc0e6f75-4b96-4b0a-a9a8-bbbeb883bac1",
   "metadata": {},
   "outputs": [
    {
     "name": "stderr",
     "output_type": "stream",
     "text": [
      "                                                                                                                      \r"
     ]
    },
    {
     "data": {
      "text/html": [
       "<video src=\"media/jupyter/ICPScene@2022-03-31@14-38-53.mp4\" controls autoplay loop style=\"max-width: 60%;\"  >\n",
       "      Your browser does not support the <code>video</code> element.\n",
       "    </video>"
      ],
      "text/plain": [
       "<IPython.core.display.Video object>"
      ]
     },
     "metadata": {},
     "output_type": "display_data"
    }
   ],
   "source": [
    "%%manim -qm -v WARNING --disable_caching ICPScene\n",
    "\n",
    "points = []\n",
    "for x in np.linspace(0, 2, 4):\n",
    "    points.append((x, 0))\n",
    "for y in np.linspace(0, 2, 4):\n",
    "    points.append((0, y))\n",
    "\n",
    "\n",
    "class ICPScene(Scene):\n",
    "    def construct(self):\n",
    "        pc_map = VGroup()\n",
    "        pc_reading = VGroup()\n",
    "        for x, y in points:\n",
    "            pc_map.add(Dot((x, y, 0), radius=0.1, color=YELLOW))\n",
    "            pc_reading.add(Dot((x, y, 0), radius=0.1, color=RED))\n",
    "        pc_reading.shift([-1, -1, 0])\n",
    "        \n",
    "        pc_map.shift(3 * RIGHT)\n",
    "        pc_reading.shift(3 * RIGHT)\n",
    "            \n",
    "        lines = VGroup()\n",
    "        for p1, p2 in zip(pc_map, pc_reading):\n",
    "            lines.add(Line(p1.get_center(), p2.get_center()))\n",
    "            \n",
    "        def update_lines(lines, dt):\n",
    "            for i in range(len(lines)):\n",
    "                lines[i].become(Line(pc_map[i].get_center(), pc_reading[i].get_center()))\n",
    "        lines.add_updater(update_lines)\n",
    "            \n",
    "        self.add(lines, pc_map, pc_reading)\n",
    "        self.play(pc_reading.animate.shift([1, 1, 0]))\n",
    "        self.wait(1)\n"
   ]
  }
 ],
 "metadata": {
  "kernelspec": {
   "display_name": "Python 3 (ipykernel)",
   "language": "python",
   "name": "python3"
  },
  "language_info": {
   "codemirror_mode": {
    "name": "ipython",
    "version": 3
   },
   "file_extension": ".py",
   "mimetype": "text/x-python",
   "name": "python",
   "nbconvert_exporter": "python",
   "pygments_lexer": "ipython3",
   "version": "3.10.2"
  }
 },
 "nbformat": 4,
 "nbformat_minor": 5
}
